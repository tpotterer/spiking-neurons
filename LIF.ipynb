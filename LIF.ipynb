{
 "cells": [
  {
   "cell_type": "code",
   "execution_count": 3,
   "id": "6b50636c",
   "metadata": {},
   "outputs": [],
   "source": [
    "import torch\n",
    "import matplotlib.pyplot as plt"
   ]
  },
  {
   "cell_type": "code",
   "execution_count": 206,
   "id": "7d4d702c",
   "metadata": {},
   "outputs": [],
   "source": [
    "# params\n",
    "# decay (tau)\n",
    "# w (weight)\n",
    "# v_thresh (threshold)\n",
    "def LIF(t0=20, t1=40, t3=60, v_decay=50, vt_decay=100, weight=0.5, v_thresh = 1, v_weight=0.5, reset=0):\n",
    "    duration = torch.tensor(100) # 100ms\n",
    "    dt = torch.tensor(0.1)\n",
    "    \n",
    "    v_decay = torch.tensor(v_decay)\n",
    "    weight = torch.tensor(weight)\n",
    "    v_thresh = torch.tensor(v_thresh)\n",
    "    reset = torch.tensor(reset)\n",
    "    \n",
    "    times = torch.arange(0, duration, dt)\n",
    "    \n",
    "    incidents = [t0/dt, t1/dt, t3/dt]\n",
    "    \n",
    "    V = torch.zeros((len(times), 2))\n",
    "    Vt = torch.zeros((len(times), 2))\n",
    "    V_now = torch.tensor(0)\n",
    "    Vt_now = v_thresh\n",
    "    \n",
    "    V_exp = torch.exp(-dt/v_decay)\n",
    "    Vt_exp = torch.exp(-dt/vt_decay)\n",
    "    \n",
    "    spike_times = []\n",
    "    for i_time in range(0, len(times)):\n",
    "        V[i_time][0] = V_now\n",
    "        Vt[i_time][0] = Vt_now\n",
    "        # decay V\n",
    "        V_now = V_now * V_exp\n",
    "        \n",
    "        # decay V_t\n",
    "        Vt_now = (Vt_now - v_thresh) * Vt_exp + v_thresh\n",
    "        \n",
    "        # incoming incidents\n",
    "        if(i_time in incidents):\n",
    "            V_now += weight\n",
    "            \n",
    "        V[i_time][1] = V_now\n",
    "        Vt[i_time][1] = Vt_now\n",
    "            \n",
    "        # check threshold\n",
    "        if(V_now >= v_thresh):\n",
    "            spike_times += [times[int(i_time)]]\n",
    "            V_now = reset\n",
    "            Vt_now += v_weight\n",
    "    \n",
    "    fig = plt.figure(figsize=(5, 4))\n",
    "    ax = plt.subplot(111)\n",
    "    plt.plot(times.repeat(2, 1).T.reshape(-1), V.reshape(-1))\n",
    "    \n",
    "    plt.plot(times.repeat(2, 1).T.reshape(-1), Vt.reshape(-1), ls='--')\n",
    "    \n",
    "    for t in spike_times:\n",
    "        ax.axvline(t, ls='-', c='r')\n",
    "    \n",
    "    for t in incidents:\n",
    "        ax.axvline(t*dt, ls='--')"
   ]
  },
  {
   "cell_type": "code",
   "execution_count": 207,
   "id": "cb2ad460",
   "metadata": {},
   "outputs": [
    {
     "data": {
      "image/png": "[encoded data removed]",
      "text/plain": [
       "<Figure size 360x288 with 1 Axes>"
      ]
     },
     "metadata": {
      "needs_background": "light"
     },
     "output_type": "display_data"
    }
   ],
   "source": [
    "LIF()"
   ]
  },
  {
   "cell_type": "code",
   "execution_count": null,
   "id": "1de6f0a6",
   "metadata": {},
   "outputs": [],
   "source": []
  }
 ],
 "metadata": {
  "kernelspec": {
   "display_name": "Python 3 (ipykernel)",
   "language": "python",
   "name": "python3"
  },
  "language_info": {
   "codemirror_mode": {
    "name": "ipython",
    "version": 3
   },
   "file_extension": ".py",
   "mimetype": "text/x-python",
   "name": "python",
   "nbconvert_exporter": "python",
   "pygments_lexer": "ipython3",
   "version": "3.9.7"
  }
 },
 "nbformat": 4,
 "nbformat_minor": 5
}
